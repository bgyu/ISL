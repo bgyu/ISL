{
 "cells": [
  {
   "cell_type": "markdown",
   "metadata": {},
   "source": [
    "# Simple Linear Regression"
   ]
  },
  {
   "cell_type": "markdown",
   "metadata": {},
   "source": [
    "## $$y = \\beta_0 + \\beta_1X + \\epsilon$$"
   ]
  },
  {
   "cell_type": "markdown",
   "metadata": {},
   "source": [
    "$\\beta_0$ usually refers to *intercept*, and $\\beta_1$ refers to *slope*, both of them are known as model *coefficients* or *parameters*. $\\epsilon$ represents *irreducible error*."
   ]
  },
  {
   "cell_type": "markdown",
   "metadata": {},
   "source": [
    "#### Goal: to obtain coefficients $\\beta_0$ and $\\beta_1$ so that for each $x_i$ in X the model can get the closest $y\\hat{_i}$ possible. Can use *least Squres* to minimize the error."
   ]
  },
  {
   "cell_type": "markdown",
   "metadata": {},
   "source": [
    "To find the best parameters:\n",
    "1. Define a **cost function**, or **lost function**, that measures how inaccurate our model's predictions are;\n",
    "2. Find the parameters that **minimize loss**, to make the model as accurate as possible."
   ]
  },
  {
   "cell_type": "markdown",
   "metadata": {},
   "source": [
    "Linear Regression is a **parametric method**, which means it makes an assumption about the form of the function relating X and y. In above formula, we make an assumption that there is a **linear relationship** between X and y."
   ]
  }
 ],
 "metadata": {
  "kernelspec": {
   "display_name": "Python 3",
   "language": "python",
   "name": "python3"
  },
  "language_info": {
   "codemirror_mode": {
    "name": "ipython",
    "version": 3
   },
   "file_extension": ".py",
   "mimetype": "text/x-python",
   "name": "python",
   "nbconvert_exporter": "python",
   "pygments_lexer": "ipython3",
   "version": "3.6.6"
  }
 },
 "nbformat": 4,
 "nbformat_minor": 2
}
